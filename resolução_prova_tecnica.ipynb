{
 "cells": [
  {
   "cell_type": "markdown",
   "id": "ed79c23a",
   "metadata": {},
   "source": [
    "# 0. Resumo da Avaliação"
   ]
  },
  {
   "cell_type": "markdown",
   "id": "408b4a6b",
   "metadata": {},
   "source": [
    "**Abordagem**: modelagem de classificação multiclasse utilizando variáveis dummies criadas a partir do texto original, seguindo as seguintes etapas:\n",
    "- verificação de nulos\n",
    "- tratamento de acentuação, pontuação e stopwords\n",
    "- aplicação do método TF-IDF\n",
    "\n",
    "**Otimização do algoritmo**: Os algoritmos testados foram Naive Bayes (NB, usual em problemas de textos) e Random Forest (RF, ajuste paralelizável e mais rápido). Há três versões de modelos ao final (uma primeira usando apenas o texto, a segunda acrescentando algumas variáveis do reviewer e a terceira após balanceamento de classes). Todas seguem as etapas:\n",
    "- separação entre treino e teste\n",
    "- manipulações na base de treino (fit transform) e apenas aplicação na base de teste (transform)\n",
    "- otimização de hiperparâmetros da RF utilizando grid search com validação cruzada apenas na base de treino\n",
    "- ajuste final da RF e do NB na base de treino\n",
    "- cálculo da acurácia global e visualização da matriz de confusão 5x5 para ambos os algoritmos"
   ]
  },
  {
   "cell_type": "markdown",
   "id": "5cc2d733",
   "metadata": {},
   "source": [
    "# 1. Leitura e características da base"
   ]
  },
  {
   "cell_type": "code",
   "execution_count": 1,
   "id": "93762698",
   "metadata": {},
   "outputs": [
    {
     "name": "stdout",
     "output_type": "stream",
     "text": [
      "hello_world\n"
     ]
    }
   ],
   "source": [
    "from src import my_module\n",
    "\n",
    "my_module.helper_function()"
   ]
  },
  {
   "cell_type": "code",
   "execution_count": 2,
   "id": "38d1173e",
   "metadata": {},
   "outputs": [],
   "source": [
    "import pandas as pd\n",
    "import numpy as np\n",
    "import matplotlib.pyplot as plt"
   ]
  },
  {
   "cell_type": "code",
   "execution_count": 3,
   "id": "8abcf14e",
   "metadata": {},
   "outputs": [],
   "source": [
    "orig_df = pd.read_csv('data/train_df.csv')"
   ]
  },
  {
   "cell_type": "code",
   "execution_count": 4,
   "id": "4534f130",
   "metadata": {},
   "outputs": [
    {
     "data": {
      "text/plain": [
       "(105898, 15)"
      ]
     },
     "execution_count": 4,
     "metadata": {},
     "output_type": "execute_result"
    }
   ],
   "source": [
    "orig_df.shape"
   ]
  },
  {
   "cell_type": "code",
   "execution_count": 5,
   "id": "5ad88c2f",
   "metadata": {},
   "outputs": [
    {
     "data": {
      "text/html": [
       "<div>\n",
       "<style scoped>\n",
       "    .dataframe tbody tr th:only-of-type {\n",
       "        vertical-align: middle;\n",
       "    }\n",
       "\n",
       "    .dataframe tbody tr th {\n",
       "        vertical-align: top;\n",
       "    }\n",
       "\n",
       "    .dataframe thead th {\n",
       "        text-align: right;\n",
       "    }\n",
       "</style>\n",
       "<table border=\"1\" class=\"dataframe\">\n",
       "  <thead>\n",
       "    <tr style=\"text-align: right;\">\n",
       "      <th></th>\n",
       "      <th>index</th>\n",
       "      <th>submission_date</th>\n",
       "      <th>reviewer_id</th>\n",
       "      <th>product_id</th>\n",
       "      <th>product_name</th>\n",
       "      <th>product_brand</th>\n",
       "      <th>site_category_lv1</th>\n",
       "      <th>site_category_lv2</th>\n",
       "      <th>review_title</th>\n",
       "      <th>recommend_to_a_friend</th>\n",
       "      <th>review_text</th>\n",
       "      <th>reviewer_birth_year</th>\n",
       "      <th>reviewer_gender</th>\n",
       "      <th>reviewer_state</th>\n",
       "      <th>overall_rating</th>\n",
       "    </tr>\n",
       "  </thead>\n",
       "  <tbody>\n",
       "    <tr>\n",
       "      <th>0</th>\n",
       "      <td>95851</td>\n",
       "      <td>2018-04-20 11:56:28</td>\n",
       "      <td>c951f3a4511b554a1f34330903c320f34cfccbdf8de357...</td>\n",
       "      <td>111586438</td>\n",
       "      <td>Depilador Elétrico Philips Satinelle HP6403/30</td>\n",
       "      <td>philips</td>\n",
       "      <td>Beleza e Perfumaria</td>\n",
       "      <td>Depilação</td>\n",
       "      <td>Depilador</td>\n",
       "      <td>Yes</td>\n",
       "      <td>Muito eficiente e prático! Depilação rápida em...</td>\n",
       "      <td>1978.0</td>\n",
       "      <td>F</td>\n",
       "      <td>ES</td>\n",
       "      <td>5</td>\n",
       "    </tr>\n",
       "  </tbody>\n",
       "</table>\n",
       "</div>"
      ],
      "text/plain": [
       "   index      submission_date  \\\n",
       "0  95851  2018-04-20 11:56:28   \n",
       "\n",
       "                                         reviewer_id product_id  \\\n",
       "0  c951f3a4511b554a1f34330903c320f34cfccbdf8de357...  111586438   \n",
       "\n",
       "                                     product_name product_brand  \\\n",
       "0  Depilador Elétrico Philips Satinelle HP6403/30       philips   \n",
       "\n",
       "     site_category_lv1 site_category_lv2 review_title recommend_to_a_friend  \\\n",
       "0  Beleza e Perfumaria         Depilação    Depilador                   Yes   \n",
       "\n",
       "                                         review_text  reviewer_birth_year  \\\n",
       "0  Muito eficiente e prático! Depilação rápida em...               1978.0   \n",
       "\n",
       "  reviewer_gender reviewer_state  overall_rating  \n",
       "0               F             ES               5  "
      ]
     },
     "execution_count": 5,
     "metadata": {},
     "output_type": "execute_result"
    }
   ],
   "source": [
    "orig_df.head(1)"
   ]
  },
  {
   "cell_type": "code",
   "execution_count": 6,
   "id": "d4275508",
   "metadata": {},
   "outputs": [
    {
     "data": {
      "text/plain": [
       "1    21998\n",
       "2     6726\n",
       "3    13004\n",
       "4    25855\n",
       "5    38315\n",
       "Name: overall_rating, dtype: int64"
      ]
     },
     "execution_count": 6,
     "metadata": {},
     "output_type": "execute_result"
    }
   ],
   "source": [
    "orig_df['overall_rating'].value_counts().sort_index()"
   ]
  },
  {
   "cell_type": "code",
   "execution_count": 7,
   "id": "aff2a39f",
   "metadata": {},
   "outputs": [
    {
     "data": {
      "text/plain": [
       "index                        0\n",
       "submission_date              0\n",
       "reviewer_id                  0\n",
       "product_id                   0\n",
       "product_name                65\n",
       "product_brand            73194\n",
       "site_category_lv1            3\n",
       "site_category_lv2         3212\n",
       "review_title                 0\n",
       "recommend_to_a_friend       10\n",
       "review_text                  0\n",
       "reviewer_birth_year       4793\n",
       "reviewer_gender           3316\n",
       "reviewer_state            3207\n",
       "overall_rating               0\n",
       "dtype: int64"
      ]
     },
     "execution_count": 7,
     "metadata": {},
     "output_type": "execute_result"
    }
   ],
   "source": [
    "orig_df.isna().sum() #sem nulos nos textos e notas finais; poucos em categ-lvl1"
   ]
  },
  {
   "cell_type": "markdown",
   "id": "4ca85f6c",
   "metadata": {},
   "source": [
    "# 2. Tratamento do texto"
   ]
  },
  {
   "cell_type": "code",
   "execution_count": 8,
   "id": "3e390fb0",
   "metadata": {},
   "outputs": [
    {
     "data": {
      "text/html": [
       "<div>\n",
       "<style scoped>\n",
       "    .dataframe tbody tr th:only-of-type {\n",
       "        vertical-align: middle;\n",
       "    }\n",
       "\n",
       "    .dataframe tbody tr th {\n",
       "        vertical-align: top;\n",
       "    }\n",
       "\n",
       "    .dataframe thead th {\n",
       "        text-align: right;\n",
       "    }\n",
       "</style>\n",
       "<table border=\"1\" class=\"dataframe\">\n",
       "  <thead>\n",
       "    <tr style=\"text-align: right;\">\n",
       "      <th></th>\n",
       "      <th>index</th>\n",
       "      <th>submission_date</th>\n",
       "      <th>reviewer_id</th>\n",
       "      <th>product_id</th>\n",
       "      <th>product_name</th>\n",
       "      <th>product_brand</th>\n",
       "      <th>site_category_lv1</th>\n",
       "      <th>site_category_lv2</th>\n",
       "      <th>review_title</th>\n",
       "      <th>recommend_to_a_friend</th>\n",
       "      <th>review_text</th>\n",
       "      <th>reviewer_birth_year</th>\n",
       "      <th>reviewer_gender</th>\n",
       "      <th>reviewer_state</th>\n",
       "      <th>overall_rating</th>\n",
       "      <th>clean_text</th>\n",
       "    </tr>\n",
       "  </thead>\n",
       "  <tbody>\n",
       "    <tr>\n",
       "      <th>0</th>\n",
       "      <td>95851</td>\n",
       "      <td>2018-04-20 11:56:28</td>\n",
       "      <td>c951f3a4511b554a1f34330903c320f34cfccbdf8de357...</td>\n",
       "      <td>111586438</td>\n",
       "      <td>Depilador Elétrico Philips Satinelle HP6403/30</td>\n",
       "      <td>philips</td>\n",
       "      <td>Beleza e Perfumaria</td>\n",
       "      <td>Depilação</td>\n",
       "      <td>Depilador</td>\n",
       "      <td>Yes</td>\n",
       "      <td>Muito eficiente e prático! Depilação rápida em...</td>\n",
       "      <td>1978.0</td>\n",
       "      <td>F</td>\n",
       "      <td>ES</td>\n",
       "      <td>5</td>\n",
       "      <td>eficiente pratico depilaçao rapida qualquer lu...</td>\n",
       "    </tr>\n",
       "  </tbody>\n",
       "</table>\n",
       "</div>"
      ],
      "text/plain": [
       "   index      submission_date  \\\n",
       "0  95851  2018-04-20 11:56:28   \n",
       "\n",
       "                                         reviewer_id product_id  \\\n",
       "0  c951f3a4511b554a1f34330903c320f34cfccbdf8de357...  111586438   \n",
       "\n",
       "                                     product_name product_brand  \\\n",
       "0  Depilador Elétrico Philips Satinelle HP6403/30       philips   \n",
       "\n",
       "     site_category_lv1 site_category_lv2 review_title recommend_to_a_friend  \\\n",
       "0  Beleza e Perfumaria         Depilação    Depilador                   Yes   \n",
       "\n",
       "                                         review_text  reviewer_birth_year  \\\n",
       "0  Muito eficiente e prático! Depilação rápida em...               1978.0   \n",
       "\n",
       "  reviewer_gender reviewer_state  overall_rating  \\\n",
       "0               F             ES               5   \n",
       "\n",
       "                                          clean_text  \n",
       "0  eficiente pratico depilaçao rapida qualquer lu...  "
      ]
     },
     "execution_count": 8,
     "metadata": {},
     "output_type": "execute_result"
    }
   ],
   "source": [
    "#import nltk\n",
    "#nltk.download('stopwords')\n",
    "\n",
    "from nltk.corpus import stopwords\n",
    "import string\n",
    "import re\n",
    "from sklearn.model_selection import train_test_split, cross_val_score, RandomizedSearchCV\n",
    "from sklearn.feature_extraction.text import TfidfVectorizer\n",
    "\n",
    "def remove_punctuation(text):\n",
    "    punctuationfree=\"\".join([i for i in text if i not in string.punctuation])\n",
    "    return punctuationfree\n",
    "def remove_stopwords(text, stopwords):\n",
    "    output= [word for word in re.split(\"\\W+\",text) if word not in stopwords]  # filter out empty words\n",
    "    return output\n",
    "def remove_accents(text):\n",
    "    text = re.sub(u\"[àáâãäå]\", 'a', text)\n",
    "    text = re.sub(u\"[èéêë]\", 'e', text)\n",
    "    text = re.sub(u\"[ìíîï]\", 'i', text)\n",
    "    text = re.sub(u\"[òóôõö]\", 'o', text)\n",
    "    text = re.sub(u\"[ùúûü]\", 'u', text)\n",
    "    return text \n",
    "\n",
    "#remove punctuation and accents\n",
    "orig_df['clean_text'] = orig_df['review_text'].apply(lambda x:remove_punctuation(x))\n",
    "orig_df['clean_text'] = orig_df['clean_text'].apply(lambda x:remove_accents(x))\n",
    "\n",
    "#lower case\n",
    "orig_df['clean_text'] = orig_df['clean_text'].apply(lambda x: x.lower())\n",
    "\n",
    "#remove stopwords\n",
    "pt_stopwords = stopwords.words('portuguese')\n",
    "orig_df['clean_text'] = orig_df['clean_text'].apply(lambda x: remove_stopwords(x, stopwords = pt_stopwords))\n",
    "\n",
    "#list to string once again\n",
    "orig_df['clean_text'] = orig_df['clean_text'].apply(lambda x: ' '.join([str(elem) for elem in x]))\n",
    "\n",
    "orig_df.head(1)"
   ]
  },
  {
   "cell_type": "code",
   "execution_count": 9,
   "id": "5aa9400e",
   "metadata": {},
   "outputs": [],
   "source": [
    "X_train, X_test, y_train, y_test = train_test_split(orig_df['clean_text'], orig_df['overall_rating'], random_state = 42)"
   ]
  },
  {
   "cell_type": "code",
   "execution_count": 10,
   "id": "775bfded",
   "metadata": {},
   "outputs": [],
   "source": [
    "tfidf = TfidfVectorizer(sublinear_tf=True, min_df=50, norm='l2', \n",
    "                        ngram_range=(1, 1), stop_words=pt_stopwords)\n",
    "X_train_tfidf = tfidf.fit_transform(X_train)\n",
    "X_test_tfidf = tfidf.transform(X_test)"
   ]
  },
  {
   "cell_type": "code",
   "execution_count": 11,
   "id": "fa40efec",
   "metadata": {},
   "outputs": [
    {
     "data": {
      "text/plain": [
       "((79423, 2307), (26475, 2307))"
      ]
     },
     "execution_count": 11,
     "metadata": {},
     "output_type": "execute_result"
    }
   ],
   "source": [
    "X_train_tfidf.shape, X_test_tfidf.shape"
   ]
  },
  {
   "cell_type": "markdown",
   "id": "c5e7d836",
   "metadata": {},
   "source": [
    "# 3. Modelagem"
   ]
  },
  {
   "cell_type": "code",
   "execution_count": 12,
   "id": "3c5147f3",
   "metadata": {},
   "outputs": [],
   "source": [
    "from sklearn.naive_bayes import MultinomialNB\n",
    "from sklearn.ensemble import RandomForestClassifier\n",
    "from sklearn.metrics import confusion_matrix"
   ]
  },
  {
   "cell_type": "markdown",
   "id": "d4002830",
   "metadata": {},
   "source": [
    "## 3.1 Random Forest Grid"
   ]
  },
  {
   "cell_type": "code",
   "execution_count": 13,
   "id": "f6a6e512",
   "metadata": {},
   "outputs": [],
   "source": [
    "# Number of trees in Random Forest\n",
    "rf_n_estimators = [int(x) for x in np.linspace(100, 300, 5)]\n",
    "\n",
    "# Maximum number of levels in tree\n",
    "rf_max_depth = [int(x) for x in np.linspace(5, 21, 9)]\n",
    "\n",
    "# Minimum number of samples required to split a node\n",
    "rf_min_samples_split = [int(x) for x in np.linspace(2, 10, 9)]\n",
    "\n",
    "# Minimum decrease in impurity required for split to happen\n",
    "rf_min_impurity_decrease = [0.0, 0.05, 0.1]\n",
    "\n",
    "# Method of selecting samples for training each tree\n",
    "rf_bootstrap = [True, False]\n",
    "\n",
    "# Create the grid\n",
    "rf_grid = {'n_estimators': rf_n_estimators,\n",
    "               'max_depth': rf_max_depth,\n",
    "               'min_samples_split': rf_min_samples_split,\n",
    "               'min_impurity_decrease': rf_min_impurity_decrease,\n",
    "               'bootstrap': rf_bootstrap}"
   ]
  },
  {
   "cell_type": "code",
   "execution_count": 14,
   "id": "502eb698",
   "metadata": {},
   "outputs": [
    {
     "name": "stdout",
     "output_type": "stream",
     "text": [
      "Fitting 3 folds for each of 30 candidates, totalling 90 fits\n"
     ]
    },
    {
     "data": {
      "text/plain": [
       "{'n_estimators': 250,\n",
       " 'min_samples_split': 6,\n",
       " 'min_impurity_decrease': 0.0,\n",
       " 'max_depth': 21,\n",
       " 'bootstrap': True}"
      ]
     },
     "execution_count": 14,
     "metadata": {},
     "output_type": "execute_result"
    }
   ],
   "source": [
    "# Create the model to be tuned\n",
    "rf_base = RandomForestClassifier()\n",
    "\n",
    "# Create the random search Random Forest\n",
    "rf_random = RandomizedSearchCV(estimator = rf_base, param_distributions = rf_grid, \n",
    "                               n_iter = 30, cv = 3, verbose = 10, random_state = 42, \n",
    "                               n_jobs = -1)\n",
    "\n",
    "# Fit the random search model\n",
    "rf_random.fit(X_train_tfidf, y_train)\n",
    "\n",
    "# View the best parameters from the random search\n",
    "rf_random.best_params_"
   ]
  },
  {
   "cell_type": "markdown",
   "id": "f1b0177a",
   "metadata": {},
   "source": [
    "## 3.2 Naive Bayes"
   ]
  },
  {
   "cell_type": "code",
   "execution_count": 15,
   "id": "9cc96d97",
   "metadata": {},
   "outputs": [],
   "source": [
    "#sem grid"
   ]
  },
  {
   "cell_type": "markdown",
   "id": "bbfbbfb8",
   "metadata": {},
   "source": [
    "## 3.3 Ajuste"
   ]
  },
  {
   "cell_type": "code",
   "execution_count": 16,
   "id": "b9343924",
   "metadata": {},
   "outputs": [],
   "source": [
    "# Create the final Naive Bayes\n",
    "nbayes_final = MultinomialNB()\n",
    "\n",
    "# Create the final Random Forest\n",
    "rf_final = RandomForestClassifier(n_estimators = 250,\n",
    "                                  min_samples_split = 6,\n",
    "                                  min_impurity_decrease = 0.0,\n",
    "                                  max_depth = 21,\n",
    "                                  bootstrap = True)"
   ]
  },
  {
   "cell_type": "code",
   "execution_count": 17,
   "id": "12d25ed0",
   "metadata": {},
   "outputs": [
    {
     "data": {
      "text/plain": [
       "array([[4486,    0,    0,    4, 1078],\n",
       "       [ 842,    0,    9,   19,  785],\n",
       "       [ 689,    0,   35,   88, 2508],\n",
       "       [ 346,    0,    8,   61, 6005],\n",
       "       [ 360,    0,    2,   21, 9129]], dtype=int64)"
      ]
     },
     "execution_count": 17,
     "metadata": {},
     "output_type": "execute_result"
    }
   ],
   "source": [
    "rf_final.fit(X_train_tfidf, y_train)\n",
    "y_pred_rf = rf_final.predict(X_test_tfidf)\n",
    "conf_mat_rf = confusion_matrix(y_test.values, y_pred_rf)\n",
    "conf_mat_rf\n",
    "\n",
    "#o desbalanceamento da var resposta pode ser o responsável pela 'escassez' de previsões de notas de 2 a 4"
   ]
  },
  {
   "cell_type": "code",
   "execution_count": 18,
   "id": "621c5f1f",
   "metadata": {},
   "outputs": [
    {
     "data": {
      "text/plain": [
       "0.5178847969782814"
      ]
     },
     "execution_count": 18,
     "metadata": {},
     "output_type": "execute_result"
    }
   ],
   "source": [
    "np.diag(conf_mat_rf).sum()/conf_mat_rf.sum() #0.53 ao medir no treino, sem sinais de overfit"
   ]
  },
  {
   "cell_type": "code",
   "execution_count": 19,
   "id": "ba29b043",
   "metadata": {},
   "outputs": [
    {
     "data": {
      "text/plain": [
       "array([[4914,  124,  178,  105,  247],\n",
       "       [ 843,  121,  304,  153,  234],\n",
       "       [ 706,   66,  630,  788, 1130],\n",
       "       [ 370,   20,  384, 1405, 4241],\n",
       "       [ 403,    8,  194,  892, 8015]], dtype=int64)"
      ]
     },
     "execution_count": 19,
     "metadata": {},
     "output_type": "execute_result"
    }
   ],
   "source": [
    "nbayes_final.fit(X_train_tfidf, y_train)\n",
    "y_pred_nb = nbayes_final.predict(X_test_tfidf)\n",
    "conf_mat_nb = confusion_matrix(y_test.values, y_pred_nb)\n",
    "conf_mat_nb"
   ]
  },
  {
   "cell_type": "code",
   "execution_count": 20,
   "id": "9f346606",
   "metadata": {},
   "outputs": [
    {
     "data": {
      "text/plain": [
       "0.5697828139754485"
      ]
     },
     "execution_count": 20,
     "metadata": {},
     "output_type": "execute_result"
    }
   ],
   "source": [
    "np.diag(conf_mat_nb).sum()/conf_mat_nb.sum() #0.58 ao medir no treino, sem sinais de overfit"
   ]
  },
  {
   "cell_type": "markdown",
   "id": "f3321f72",
   "metadata": {},
   "source": [
    "# 4. Melhorias no ajuste"
   ]
  },
  {
   "cell_type": "markdown",
   "id": "5e627347",
   "metadata": {},
   "source": [
    "## 4.1 Uso das outras variáveis"
   ]
  },
  {
   "cell_type": "code",
   "execution_count": 21,
   "id": "e64c1ede",
   "metadata": {},
   "outputs": [],
   "source": [
    "from sklearn.preprocessing import OneHotEncoder\n",
    "from scipy.sparse import hstack"
   ]
  },
  {
   "cell_type": "code",
   "execution_count": 22,
   "id": "0815d120",
   "metadata": {},
   "outputs": [
    {
     "data": {
      "text/html": [
       "<div>\n",
       "<style scoped>\n",
       "    .dataframe tbody tr th:only-of-type {\n",
       "        vertical-align: middle;\n",
       "    }\n",
       "\n",
       "    .dataframe tbody tr th {\n",
       "        vertical-align: top;\n",
       "    }\n",
       "\n",
       "    .dataframe thead th {\n",
       "        text-align: right;\n",
       "    }\n",
       "</style>\n",
       "<table border=\"1\" class=\"dataframe\">\n",
       "  <thead>\n",
       "    <tr style=\"text-align: right;\">\n",
       "      <th></th>\n",
       "      <th>index</th>\n",
       "      <th>submission_date</th>\n",
       "      <th>reviewer_id</th>\n",
       "      <th>product_id</th>\n",
       "      <th>product_name</th>\n",
       "      <th>product_brand</th>\n",
       "      <th>site_category_lv1</th>\n",
       "      <th>site_category_lv2</th>\n",
       "      <th>review_title</th>\n",
       "      <th>recommend_to_a_friend</th>\n",
       "      <th>review_text</th>\n",
       "      <th>reviewer_birth_year</th>\n",
       "      <th>reviewer_gender</th>\n",
       "      <th>reviewer_state</th>\n",
       "      <th>overall_rating</th>\n",
       "      <th>clean_text</th>\n",
       "      <th>birth_year_binned</th>\n",
       "    </tr>\n",
       "  </thead>\n",
       "  <tbody>\n",
       "    <tr>\n",
       "      <th>0</th>\n",
       "      <td>95851</td>\n",
       "      <td>2018-04-20 11:56:28</td>\n",
       "      <td>c951f3a4511b554a1f34330903c320f34cfccbdf8de357...</td>\n",
       "      <td>111586438</td>\n",
       "      <td>Depilador Elétrico Philips Satinelle HP6403/30</td>\n",
       "      <td>philips</td>\n",
       "      <td>Beleza e Perfumaria</td>\n",
       "      <td>Depilação</td>\n",
       "      <td>Depilador</td>\n",
       "      <td>Yes</td>\n",
       "      <td>Muito eficiente e prático! Depilação rápida em...</td>\n",
       "      <td>1978.0</td>\n",
       "      <td>F</td>\n",
       "      <td>ES</td>\n",
       "      <td>5</td>\n",
       "      <td>eficiente pratico depilaçao rapida qualquer lu...</td>\n",
       "      <td>(1976.0, 1983.0]</td>\n",
       "    </tr>\n",
       "  </tbody>\n",
       "</table>\n",
       "</div>"
      ],
      "text/plain": [
       "   index      submission_date  \\\n",
       "0  95851  2018-04-20 11:56:28   \n",
       "\n",
       "                                         reviewer_id product_id  \\\n",
       "0  c951f3a4511b554a1f34330903c320f34cfccbdf8de357...  111586438   \n",
       "\n",
       "                                     product_name product_brand  \\\n",
       "0  Depilador Elétrico Philips Satinelle HP6403/30       philips   \n",
       "\n",
       "     site_category_lv1 site_category_lv2 review_title recommend_to_a_friend  \\\n",
       "0  Beleza e Perfumaria         Depilação    Depilador                   Yes   \n",
       "\n",
       "                                         review_text  reviewer_birth_year  \\\n",
       "0  Muito eficiente e prático! Depilação rápida em...               1978.0   \n",
       "\n",
       "  reviewer_gender reviewer_state  overall_rating  \\\n",
       "0               F             ES               5   \n",
       "\n",
       "                                          clean_text birth_year_binned  \n",
       "0  eficiente pratico depilaçao rapida qualquer lu...  (1976.0, 1983.0]  "
      ]
     },
     "execution_count": 22,
     "metadata": {},
     "output_type": "execute_result"
    }
   ],
   "source": [
    "df_feats = orig_df.copy()\n",
    "df_feats['birth_year_binned'] = pd.qcut(df_feats['reviewer_birth_year'], 5)\n",
    "df_feats.head(1)"
   ]
  },
  {
   "cell_type": "code",
   "execution_count": 23,
   "id": "fe1e3175",
   "metadata": {},
   "outputs": [],
   "source": [
    "#df_feats.groupby('birth_year_binned')['overall_rating'].value_counts(normalize=True).sort_index()"
   ]
  },
  {
   "cell_type": "code",
   "execution_count": 24,
   "id": "c28a9c1b",
   "metadata": {},
   "outputs": [],
   "source": [
    "dummy_feats = ['site_category_lv1', 'reviewer_gender', 'birth_year_binned']\n",
    "X_train, X_test, y_train, y_test = train_test_split(df_feats[dummy_feats], df_feats['overall_rating'], random_state = 42)"
   ]
  },
  {
   "cell_type": "code",
   "execution_count": 25,
   "id": "bfd238f2",
   "metadata": {},
   "outputs": [
    {
     "data": {
      "text/plain": [
       "((79423, 63), (26475, 63))"
      ]
     },
     "execution_count": 25,
     "metadata": {},
     "output_type": "execute_result"
    }
   ],
   "source": [
    "ohe = OneHotEncoder(sparse=False, handle_unknown='ignore')\n",
    "train_enc = ohe.fit_transform(X_train[dummy_feats])\n",
    "test_enc = ohe.transform(X_test[dummy_feats])\n",
    "\n",
    "train_enc.shape, test_enc.shape\n",
    "\n",
    "#comentário pós-teste: um NaiveBayes com este conjunto tem 36% de acurácia"
   ]
  },
  {
   "cell_type": "code",
   "execution_count": 26,
   "id": "dbdd870f",
   "metadata": {},
   "outputs": [
    {
     "data": {
      "text/plain": [
       "((79423, 2370), (26475, 2370))"
      ]
     },
     "execution_count": 26,
     "metadata": {},
     "output_type": "execute_result"
    }
   ],
   "source": [
    "X_train_final = hstack((X_train_tfidf, train_enc))\n",
    "X_test_final = hstack((X_test_tfidf, test_enc))\n",
    "\n",
    "X_train_final.shape, X_test_final.shape"
   ]
  },
  {
   "cell_type": "markdown",
   "id": "1aa83bc9",
   "metadata": {},
   "source": [
    "## 4.1.1 Grid / Ajustes"
   ]
  },
  {
   "cell_type": "code",
   "execution_count": 27,
   "id": "f4766aff",
   "metadata": {},
   "outputs": [
    {
     "name": "stdout",
     "output_type": "stream",
     "text": [
      "Fitting 3 folds for each of 30 candidates, totalling 90 fits\n"
     ]
    },
    {
     "data": {
      "text/plain": [
       "{'n_estimators': 250,\n",
       " 'min_samples_split': 6,\n",
       " 'min_impurity_decrease': 0.0,\n",
       " 'max_depth': 21,\n",
       " 'bootstrap': True}"
      ]
     },
     "execution_count": 27,
     "metadata": {},
     "output_type": "execute_result"
    }
   ],
   "source": [
    "# Create the model to be tuned\n",
    "rf_base = RandomForestClassifier()\n",
    "\n",
    "# Create the random search Random Forest\n",
    "rf_random = RandomizedSearchCV(estimator = rf_base, param_distributions = rf_grid, \n",
    "                               n_iter = 30, cv = 3, verbose = 10, random_state = 42, \n",
    "                               n_jobs = -1)\n",
    "\n",
    "# Fit the random search model\n",
    "rf_random.fit(X_train_final, y_train)\n",
    "\n",
    "# View the best parameters from the random search\n",
    "rf_random.best_params_"
   ]
  },
  {
   "cell_type": "code",
   "execution_count": 28,
   "id": "88f1b3e4",
   "metadata": {},
   "outputs": [],
   "source": [
    "# Create the final Naive Bayes\n",
    "nbayes_final = MultinomialNB()\n",
    "\n",
    "# Create the final Random Forest\n",
    "rf_final = RandomForestClassifier(n_estimators = 250,\n",
    "                                  min_samples_split = 6,\n",
    "                                  min_impurity_decrease = 0.0,\n",
    "                                  max_depth = 21,\n",
    "                                  bootstrap = True)"
   ]
  },
  {
   "cell_type": "code",
   "execution_count": 29,
   "id": "36fbc20d",
   "metadata": {},
   "outputs": [
    {
     "data": {
      "text/plain": [
       "array([[4557,    0,    0,    1, 1010],\n",
       "       [ 899,    0,    6,   14,  736],\n",
       "       [ 728,    0,   23,   73, 2496],\n",
       "       [ 369,    0,    4,   47, 6000],\n",
       "       [ 379,    0,    0,   15, 9118]], dtype=int64)"
      ]
     },
     "execution_count": 29,
     "metadata": {},
     "output_type": "execute_result"
    }
   ],
   "source": [
    "rf_final.fit(X_train_final, y_train)\n",
    "y_pred_rf = rf_final.predict(X_test_final)\n",
    "conf_mat_rf = confusion_matrix(y_test.values, y_pred_rf)\n",
    "conf_mat_rf"
   ]
  },
  {
   "cell_type": "code",
   "execution_count": 30,
   "id": "3bb614b1",
   "metadata": {},
   "outputs": [
    {
     "data": {
      "text/plain": [
       "0.5191690273843248"
      ]
     },
     "execution_count": 30,
     "metadata": {},
     "output_type": "execute_result"
    }
   ],
   "source": [
    "np.diag(conf_mat_rf).sum()/conf_mat_rf.sum() "
   ]
  },
  {
   "cell_type": "code",
   "execution_count": 31,
   "id": "74008edc",
   "metadata": {},
   "outputs": [
    {
     "data": {
      "text/plain": [
       "array([[4810,  152,  195,  142,  269],\n",
       "       [ 810,  155,  307,  162,  221],\n",
       "       [ 685,   93,  643,  924,  975],\n",
       "       [ 359,   28,  414, 1896, 3723],\n",
       "       [ 389,   17,  206, 1361, 7539]], dtype=int64)"
      ]
     },
     "execution_count": 31,
     "metadata": {},
     "output_type": "execute_result"
    }
   ],
   "source": [
    "nbayes_final.fit(X_train_final, y_train)\n",
    "y_pred_nb = nbayes_final.predict(X_test_final)\n",
    "conf_mat_nb = confusion_matrix(y_test.values, y_pred_nb)\n",
    "conf_mat_nb"
   ]
  },
  {
   "cell_type": "code",
   "execution_count": 32,
   "id": "7e57f4d4",
   "metadata": {},
   "outputs": [
    {
     "data": {
      "text/plain": [
       "0.5681964117091596"
      ]
     },
     "execution_count": 32,
     "metadata": {},
     "output_type": "execute_result"
    }
   ],
   "source": [
    "np.diag(conf_mat_nb).sum()/conf_mat_nb.sum()"
   ]
  },
  {
   "cell_type": "code",
   "execution_count": 33,
   "id": "49cea73b",
   "metadata": {},
   "outputs": [],
   "source": [
    "# NB nem RF não melhoraram com as novas features"
   ]
  },
  {
   "cell_type": "markdown",
   "id": "c91571bd",
   "metadata": {},
   "source": [
    "## 4.2 Balanceamento da variável resposta no treino"
   ]
  },
  {
   "cell_type": "code",
   "execution_count": null,
   "id": "06a9a2e9",
   "metadata": {},
   "outputs": [],
   "source": [
    "import imblearn\n",
    "from imblearn.under_sampling import RandomUnderSampler"
   ]
  },
  {
   "cell_type": "code",
   "execution_count": 34,
   "id": "56dc03f3",
   "metadata": {},
   "outputs": [
    {
     "data": {
      "text/plain": [
       "1    16430\n",
       "2     5071\n",
       "3     9684\n",
       "4    19435\n",
       "5    28803\n",
       "Name: overall_rating, dtype: int64"
      ]
     },
     "execution_count": 34,
     "metadata": {},
     "output_type": "execute_result"
    }
   ],
   "source": [
    "pd.Series(y_train).value_counts().sort_index()"
   ]
  },
  {
   "cell_type": "code",
   "execution_count": 35,
   "id": "3a97a1cf",
   "metadata": {},
   "outputs": [],
   "source": [
    "rus = RandomUnderSampler(random_state=42)\n",
    "X_resampled, y_resampled = rus.fit_resample(X_train_final, y_train)"
   ]
  },
  {
   "cell_type": "code",
   "execution_count": 36,
   "id": "c79bf8b3",
   "metadata": {},
   "outputs": [
    {
     "data": {
      "text/plain": [
       "(25355, 2370)"
      ]
     },
     "execution_count": 36,
     "metadata": {},
     "output_type": "execute_result"
    }
   ],
   "source": [
    "X_resampled.shape"
   ]
  },
  {
   "cell_type": "code",
   "execution_count": 37,
   "id": "265c4ec1",
   "metadata": {},
   "outputs": [
    {
     "data": {
      "text/plain": [
       "1    5071\n",
       "2    5071\n",
       "3    5071\n",
       "4    5071\n",
       "5    5071\n",
       "Name: overall_rating, dtype: int64"
      ]
     },
     "execution_count": 37,
     "metadata": {},
     "output_type": "execute_result"
    }
   ],
   "source": [
    "pd.Series(y_resampled).value_counts()"
   ]
  },
  {
   "cell_type": "markdown",
   "id": "d14a03fd",
   "metadata": {},
   "source": [
    "## 4.2.1 Grid / Ajustes"
   ]
  },
  {
   "cell_type": "code",
   "execution_count": 38,
   "id": "0ac60496",
   "metadata": {},
   "outputs": [
    {
     "name": "stdout",
     "output_type": "stream",
     "text": [
      "Fitting 3 folds for each of 30 candidates, totalling 90 fits\n"
     ]
    },
    {
     "data": {
      "text/plain": [
       "{'n_estimators': 250,\n",
       " 'min_samples_split': 6,\n",
       " 'min_impurity_decrease': 0.0,\n",
       " 'max_depth': 21,\n",
       " 'bootstrap': True}"
      ]
     },
     "execution_count": 38,
     "metadata": {},
     "output_type": "execute_result"
    }
   ],
   "source": [
    "# Create the model to be tuned\n",
    "rf_base = RandomForestClassifier()\n",
    "\n",
    "# Create the random search Random Forest\n",
    "rf_random = RandomizedSearchCV(estimator = rf_base, param_distributions = rf_grid, \n",
    "                               n_iter = 30, cv = 3, verbose = 10, random_state = 42, \n",
    "                               n_jobs = -1)\n",
    "\n",
    "# Fit the random search model\n",
    "rf_random.fit(X_resampled, y_resampled)\n",
    "\n",
    "# View the best parameters from the random search\n",
    "rf_random.best_params_"
   ]
  },
  {
   "cell_type": "code",
   "execution_count": 39,
   "id": "305748c5",
   "metadata": {},
   "outputs": [],
   "source": [
    "# Create the final Naive Bayes\n",
    "nbayes_final = MultinomialNB()\n",
    "\n",
    "# Create the final Random Forest\n",
    "rf_final = RandomForestClassifier(n_estimators = 250,\n",
    "                                  min_samples_split = 6,\n",
    "                                  min_impurity_decrease = 0.0,\n",
    "                                  max_depth = 21,\n",
    "                                  bootstrap = True)"
   ]
  },
  {
   "cell_type": "code",
   "execution_count": 40,
   "id": "a0bb8cb3",
   "metadata": {},
   "outputs": [
    {
     "data": {
      "text/plain": [
       "array([[3958, 1259,  211,   70,   70],\n",
       "       [ 503,  797,  261,   54,   40],\n",
       "       [ 408,  839, 1026,  684,  363],\n",
       "       [ 285,  621, 1105, 2272, 2137],\n",
       "       [ 416,  672, 1073, 2095, 5256]], dtype=int64)"
      ]
     },
     "execution_count": 40,
     "metadata": {},
     "output_type": "execute_result"
    }
   ],
   "source": [
    "rf_final.fit(X_resampled, y_resampled)\n",
    "y_pred_rf = rf_final.predict(X_test_final)\n",
    "conf_mat_rf = confusion_matrix(y_test.values, y_pred_rf)\n",
    "conf_mat_rf\n",
    "\n",
    "#previsoes bem mais balanceadas; resultou entretanto em perda de acurácia global"
   ]
  },
  {
   "cell_type": "code",
   "execution_count": 41,
   "id": "087f09e2",
   "metadata": {},
   "outputs": [
    {
     "data": {
      "text/plain": [
       "0.5027006610009442"
      ]
     },
     "execution_count": 41,
     "metadata": {},
     "output_type": "execute_result"
    }
   ],
   "source": [
    "np.diag(conf_mat_rf).sum()/conf_mat_rf.sum() "
   ]
  },
  {
   "cell_type": "code",
   "execution_count": 42,
   "id": "ffe38721",
   "metadata": {},
   "outputs": [
    {
     "data": {
      "text/plain": [
       "array([[3889, 1326,  227,   54,   72],\n",
       "       [ 457,  776,  307,   69,   46],\n",
       "       [ 386,  733, 1039,  785,  377],\n",
       "       [ 228,  387, 1167, 2682, 1956],\n",
       "       [ 318,  368,  903, 2787, 5136]], dtype=int64)"
      ]
     },
     "execution_count": 42,
     "metadata": {},
     "output_type": "execute_result"
    }
   ],
   "source": [
    "nbayes_final.fit(X_resampled, y_resampled)\n",
    "y_pred_nb = nbayes_final.predict(X_test_final)\n",
    "conf_mat_nb = confusion_matrix(y_test.values, y_pred_nb)\n",
    "conf_mat_nb"
   ]
  },
  {
   "cell_type": "code",
   "execution_count": 43,
   "id": "e02c41b9",
   "metadata": {},
   "outputs": [
    {
     "data": {
      "text/plain": [
       "0.5107459867799811"
      ]
     },
     "execution_count": 43,
     "metadata": {},
     "output_type": "execute_result"
    }
   ],
   "source": [
    "np.diag(conf_mat_nb).sum()/conf_mat_nb.sum() #queda de acurácia para o NaiveBayes também"
   ]
  },
  {
   "cell_type": "code",
   "execution_count": null,
   "id": "15a73271",
   "metadata": {},
   "outputs": [],
   "source": []
  }
 ],
 "metadata": {
  "kernelspec": {
   "display_name": "Python 3",
   "language": "python",
   "name": "python3"
  },
  "language_info": {
   "codemirror_mode": {
    "name": "ipython",
    "version": 3
   },
   "file_extension": ".py",
   "mimetype": "text/x-python",
   "name": "python",
   "nbconvert_exporter": "python",
   "pygments_lexer": "ipython3",
   "version": "3.8.8"
  }
 },
 "nbformat": 4,
 "nbformat_minor": 5
}
